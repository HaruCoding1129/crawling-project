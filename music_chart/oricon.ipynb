{
 "metadata": {
  "language_info": {
   "codemirror_mode": {
    "name": "ipython",
    "version": 3
   },
   "file_extension": ".py",
   "mimetype": "text/x-python",
   "name": "python",
   "nbconvert_exporter": "python",
   "pygments_lexer": "ipython3",
   "version": "3.8.3-final"
  },
  "orig_nbformat": 2,
  "kernelspec": {
   "name": "python_defaultSpec_1598055853044",
   "display_name": "Python 3.8.3 32-bit"
  }
 },
 "nbformat": 4,
 "nbformat_minor": 2,
 "cells": [
  {
   "cell_type": "code",
   "execution_count": 2,
   "metadata": {},
   "outputs": [],
   "source": [
    "from selenium import webdriver\n",
    "from bs4 import BeautifulSoup"
   ]
  },
  {
   "cell_type": "code",
   "execution_count": 5,
   "metadata": {},
   "outputs": [],
   "source": [
    "driver = webdriver.Chrome('chromedriver.exe')\n",
    "url = 'https://www.oricon.co.jp/rank/js/m/2020-07/'\n",
    "driver.get(url)\n",
    "html = driver.page_source"
   ]
  },
  {
   "cell_type": "code",
   "execution_count": 6,
   "metadata": {},
   "outputs": [],
   "source": [
    "soup = BeautifulSoup(html, 'html.parser')"
   ]
  },
  {
   "cell_type": "code",
   "execution_count": 7,
   "metadata": {
    "tags": []
   },
   "outputs": [
    {
     "output_type": "stream",
     "name": "stdout",
     "text": "10\n<section class=\"box-rank-entry\" itemprop=\"itemListElement\" itemscope=\"\" itemtype=\"http://schema.org/ListItem\">\n<div class=\"inner-label\">\n<div class=\"ribbon\"></div>\n<p class=\"num\">1</p>\n<p class=\"status new\">NEW</p>\n</div>\n<!-- /inner-label -->\n<div class=\"inner\"><a href=\"/prof/253626/products/1363405/1/\" itemprop=\"url\"> <p class=\"image\"><span>\n<img alt=\"カイト\" itemprop=\"image\" src=\"https://m.media-amazon.com/images/I/51PDs5uiD2L._SL160_.jpg\"/>\n</span></p>\n<div class=\"wrap-text\">\n<h2 class=\"title\" itemprop=\"name\">カイト</h2>\n<p class=\"name\">嵐</p>\n<ul class=\"list\">\n<li>発売日：\n\t\t\t\t\t\t\t\t\t\t\t\t\t\t\t\t\t\t\t2020年07月29日\n\t\t\t\t\t\t\t\t\t\t\t\t\t\t\t\t\t</li>\n<li>推定売上枚数：910,860枚</li>\n<li>ジェイ・ストーム</li>\n</ul>\n</div>\n<!-- /.wrap-text -->\n</a></div>\n<!-- /.inner -->\n<div class=\"unit-actions\">\n<ul class=\"list-btn jsc-block-ranking-detail\" style=\"position: relative; z-index: 10;\">\n<li class=\"buy\"><a class=\"btn-b\" href=\"javascript:void(0);\"><span class=\"icon-cart01\"></span>商品購入<span class=\"icon-arrow-bottom01\"></span></a>\n<div class=\"box-buy\" style=\"display: none;\">\n<ul>\n<li><a href=\"http://www.oricon.co.jp/dealer/amazon.php?POS_CD=4580117629920\" target=\"_blank\"><span class=\"icon-blank\"></span>amazonで購入する</a></li>\n<li><a href=\"https://www.hmv.co.jp/search/searchresults.asp?isbn=4580117629920&amp;site=oricon\" target=\"_blank\"><span class=\"icon-blank\"></span>HMV&amp;BOOKS onlineで購入する</a></li>\n<li><a href=\"http://www.oricon.co.jp/dealer/rakutenbooks.php?POS_CD=4580117629920\" target=\"_blank\"><span class=\"icon-blank\"></span>楽天ブックスで購入する</a></li>\n<li><a href=\"https://7net.omni7.jp/detail_jan/4580117629920\" target=\"_blank\"><span class=\"icon-blank\"></span>セブンネットショッピングで購入する</a></li>\n<li><a href=\"https://www.oricon.co.jp/_cdsales/redirect.php?JAN=4580117629920\">他のショップで購入する</a></li>\n<li id=\"closebuy\"><a href=\"javascript:void(0);\" style=\"padding:8px;background:#f9f9f9;color:#999;text-align:right;\"><span style=\"margin-right:15px;\">×閉じる</span></a></li>\n</ul>\n</div>\n<!-- /.box-buy -->\n</li>\n</ul>\n</div>\n<!-- /.unit-action -->\n</section>\n"
    }
   ],
   "source": [
    "songs = soup.select('.box-rank-entry')\n",
    "print(len(songs))\n",
    "print(songs[0])\n"
   ]
  },
  {
   "cell_type": "code",
   "execution_count": 29,
   "metadata": {
    "tags": []
   },
   "outputs": [
    {
     "output_type": "stream",
     "name": "stdout",
     "text": "<section class=\"box-rank-entry\" itemprop=\"itemListElement\" itemscope=\"\" itemtype=\"http://schema.org/ListItem\">\n <div class=\"inner-label\">\n  <div class=\"ribbon\">\n  </div>\n  <p class=\"num\">\n   1\n  </p>\n  <p class=\"status new\">\n   NEW\n  </p>\n </div>\n <!-- /inner-label -->\n <div class=\"inner\">\n  <a href=\"/prof/253626/products/1363405/1/\" itemprop=\"url\">\n   <p class=\"image\">\n    <span>\n     <img alt=\"カイト\" itemprop=\"image\" src=\"https://m.media-amazon.com/images/I/51PDs5uiD2L._SL160_.jpg\"/>\n    </span>\n   </p>\n   <div class=\"wrap-text\">\n    <h2 class=\"title\" itemprop=\"name\">\n     カイト\n    </h2>\n    <p class=\"name\">\n     嵐\n    </p>\n    <ul class=\"list\">\n     <li>\n      発売日：\n\t\t\t\t\t\t\t\t\t\t\t\t\t\t\t\t\t\t\t2020年07月29日\n     </li>\n     <li>\n      推定売上枚数：910,860枚\n     </li>\n     <li>\n      ジェイ・ストーム\n     </li>\n    </ul>\n   </div>\n   <!-- /.wrap-text -->\n  </a>\n </div>\n <!-- /.inner -->\n <div class=\"unit-actions\">\n  <ul class=\"list-btn jsc-block-ranking-detail\" style=\"position: relative; z-index: 10;\">\n   <li class=\"buy\">\n    <a class=\"btn-b\" href=\"javascript:void(0);\">\n     <span class=\"icon-cart01\">\n     </span>\n     商品購入\n     <span class=\"icon-arrow-bottom01\">\n     </span>\n    </a>\n    <div class=\"box-buy\" style=\"display: none;\">\n     <ul>\n      <li>\n       <a href=\"http://www.oricon.co.jp/dealer/amazon.php?POS_CD=4580117629920\" target=\"_blank\">\n        <span class=\"icon-blank\">\n        </span>\n        amazonで購入する\n       </a>\n      </li>\n      <li>\n       <a href=\"https://www.hmv.co.jp/search/searchresults.asp?isbn=4580117629920&amp;site=oricon\" target=\"_blank\">\n        <span class=\"icon-blank\">\n        </span>\n        HMV&amp;BOOKS onlineで購入する\n       </a>\n      </li>\n      <li>\n       <a href=\"http://www.oricon.co.jp/dealer/rakutenbooks.php?POS_CD=4580117629920\" target=\"_blank\">\n        <span class=\"icon-blank\">\n        </span>\n        楽天ブックスで購入する\n       </a>\n      </li>\n      <li>\n       <a href=\"https://7net.omni7.jp/detail_jan/4580117629920\" target=\"_blank\">\n        <span class=\"icon-blank\">\n        </span>\n        セブンネットショッピングで購入する\n       </a>\n      </li>\n      <li>\n       <a href=\"https://www.oricon.co.jp/_cdsales/redirect.php?JAN=4580117629920\">\n        他のショップで購入する\n       </a>\n      </li>\n      <li id=\"closebuy\">\n       <a href=\"javascript:void(0);\" style=\"padding:8px;background:#f9f9f9;color:#999;text-align:right;\">\n        <span style=\"margin-right:15px;\">\n         ×閉じる\n        </span>\n       </a>\n      </li>\n     </ul>\n    </div>\n    <!-- /.box-buy -->\n   </li>\n  </ul>\n </div>\n <!-- /.unit-action -->\n</section>\n\n"
    }
   ],
   "source": [
    "song = songs[0]\n",
    "print(song.prettify())"
   ]
  },
  {
   "cell_type": "code",
   "execution_count": 24,
   "metadata": {},
   "outputs": [
    {
     "output_type": "execute_result",
     "data": {
      "text/plain": "'カイト'"
     },
     "metadata": {},
     "execution_count": 24
    }
   ],
   "source": [
    "title = song.find('h2').get_text()\n",
    "title"
   ]
  },
  {
   "cell_type": "code",
   "execution_count": 41,
   "metadata": {},
   "outputs": [
    {
     "output_type": "execute_result",
     "data": {
      "text/plain": "'嵐'"
     },
     "metadata": {},
     "execution_count": 41
    }
   ],
   "source": [
    "singer = song.find('p', {'class' : 'name'}).get_text()\n",
    "singer"
   ]
  },
  {
   "cell_type": "code",
   "execution_count": 51,
   "metadata": {
    "tags": []
   },
   "outputs": [
    {
     "output_type": "stream",
     "name": "stdout",
     "text": "1 | カイト | 嵐\n2 | NAVIGATOR | SixTONES\n3 | Last Mermaid... | Hey!Say!JUMP\n4 | Fanfare | TWICE\n5 | CAMEO | =LOVE\n6 | シャーベットピンク | NGT48\n7 | Nights Cold | 山下智久\n8 | Fantastic Departure! | Aqours\n9 | Imitation Rain/D.D. | SixTONES vs Snow Man\n10 | 無敵級*ビリーバー | 中須かすみ(相良茉優)from 虹ヶ咲学園スクールアイドル同好会\n"
    }
   ],
   "source": [
    "for index, song in enumerate(songs):\n",
    "    title = song.find('h2').get_text()\n",
    "    singer = song.find('p', {'class' : 'name'}).get_text()\n",
    "    print(index + 1, title, singer, sep=' | ')"
   ]
  }
 ]
}