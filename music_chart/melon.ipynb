{
 "metadata": {
  "language_info": {
   "codemirror_mode": {
    "name": "ipython",
    "version": 3
   },
   "file_extension": ".py",
   "mimetype": "text/x-python",
   "name": "python",
   "nbconvert_exporter": "python",
   "pygments_lexer": "ipython3",
   "version": "3.8.3-final"
  },
  "orig_nbformat": 2,
  "kernelspec": {
   "name": "python_defaultSpec_1598057128302",
   "display_name": "Python 3.8.3 32-bit"
  }
 },
 "nbformat": 4,
 "nbformat_minor": 2,
 "cells": [
  {
   "cell_type": "code",
   "execution_count": null,
   "metadata": {},
   "outputs": [],
   "source": [
    "from selenium import webdriver\n",
    "from bs4 import BeautifulSoup"
   ]
  },
  {
   "cell_type": "code",
   "execution_count": null,
   "metadata": {},
   "outputs": [],
   "source": [
    "driver = webdriver.Chrome('chromedriver.exe')\n",
    "url = 'https://www.melon.com/chart/'\n",
    "driver.get(url)\n",
    "html = driver.page_source"
   ]
  },
  {
   "cell_type": "code",
   "execution_count": 17,
   "metadata": {},
   "outputs": [],
   "source": [
    "soup = BeautifulSoup(html, 'html.parser')"
   ]
  },
  {
   "cell_type": "code",
   "execution_count": 18,
   "metadata": {
    "tags": []
   },
   "outputs": [
    {
     "output_type": "stream",
     "name": "stdout",
     "text": "101\n<tr>\n<th scope=\"col\">\n<div class=\"wrap t_right\"><input class=\"input_check d_checkall\" title=\"곡 목록 전체 선택\" type=\"checkbox\"/></div>\n</th>\n<th scope=\"col\">\n<div class=\"wrap none\">앨범이미지</div>\n</th>\n<th scope=\"col\">\n<div class=\"wrap none\">곡 상세가기</div>\n</th>\n<th scope=\"col\">\n<div class=\"wrap pd_l_12\">곡정보</div>\n</th>\n<th scope=\"col\">\n<div class=\"wrap pd_l_12\">앨범</div>\n</th>\n<th scope=\"col\">\n<div class=\"wrap pd_l_30\">좋아요</div>\n</th>\n<th scope=\"col\">\n<div class=\"wrap t_center\">듣기</div>\n</th>\n<th scope=\"col\">\n<div class=\"wrap t_center\">담기</div>\n</th>\n<th scope=\"col\">\n<div class=\"wrap t_center\">다운</div>\n</th>\n<th scope=\"col\">\n<div class=\"wrap t_center\">뮤비</div>\n</th>\n</tr>\n"
    }
   ],
   "source": [
    "songs = soup.select('tr')\n",
    "print(len(songs))\n",
    "print(songs[0])\n"
   ]
  },
  {
   "cell_type": "code",
   "execution_count": 19,
   "metadata": {
    "tags": []
   },
   "outputs": [
    {
     "output_type": "stream",
     "name": "stdout",
     "text": "100\n<tr data-song-no=\"32790516\">\n<td><div class=\"wrap t_right\"><input class=\"input_check\" name=\"input_check\" title=\"다시 여기 바닷가 곡 선택\" type=\"checkbox\" value=\"32790516\"/></div></td>\n<td><div class=\"wrap\">\n<a class=\"image_typeAll\" href=\"javascript:melon.link.goAlbumDetail('10462799');\" title=\"다시 여기 바닷가\">\n<img alt=\"다시 여기 바닷가 - 페이지 이동\" height=\"60\" onerror=\"WEBPOCIMG.defaultAlbumImg(this);\" src=\"https://cdnimg.melon.co.kr/cm2/album/images/104/62/799/10462799_20200717150822_500.jpg/melon/resize/120/quality/80/optimize\" width=\"60\"/>\n<span class=\"bg_album_frame\"></span>\n</a>\n</div></td>\n<td><div class=\"wrap\">\n<a class=\"btn button_icons type03 song_info\" href=\"javascript:melon.link.goSongDetail('32790516');\" title=\"다시 여기 바닷가 곡정보\"><span class=\"none\">곡정보</span></a>\n</div></td>\n<td><div class=\"wrap\">\n<div class=\"wrap_song_info\">\n<div class=\"ellipsis rank01\"><span>\n<a href=\"javascript:melon.play.playSong('19030101',32790516);\" title=\"다시 여기 바닷가 재생\">다시 여기 바닷가</a>\n</span></div>\n<br/>\n<div class=\"ellipsis rank02\">\n<a href=\"javascript:melon.link.goArtistDetail('2879819');\" title=\"싹쓰리 (유두래곤, 린다G, 비룡) - 페이지 이동\">싹쓰리 (유두래곤, 린다G, 비룡)</a><span class=\"checkEllipsis\" style=\"display: none;\"><a href=\"javascript:melon.link.goArtistDetail('2879819');\" title=\"싹쓰리 (유두래곤, 린다G, 비룡) - 페이지 이동\">싹쓰리 (유두래곤, 린다G, 비룡)</a></span>\n</div>\n</div>\n</div></td>\n<td><div class=\"wrap\">\n<div class=\"wrap_song_info\">\n<div class=\"ellipsis rank03\">\n<a href=\"javascript:melon.link.goAlbumDetail('10462799');\" title=\"다시 여기 바닷가 - 페이지 이동\">다시 여기 바닷가</a>\n</div>\n</div>\n</div></td>\n<td><div class=\"wrap\">\n<button class=\"button_etc like\" data-song-menuid=\"19030101\" data-song-no=\"32790516\" title=\"다시 여기 바닷가 좋아요\" type=\"button\"><span class=\"odd_span\">좋아요</span>\n<span class=\"cnt\">\n<span class=\"none\">총건수</span>\n205,206</span></button>\n</div></td>\n<td><div class=\"wrap t_center\">\n<button class=\"button_icons play\" onclick=\"melon.play.playSong('19030101',32790516);\" title=\"듣기\" type=\"button\"><span class=\"none\">듣기</span></button>\n</div></td>\n<td><div class=\"wrap t_center\">\n<button class=\"button_icons scrap\" onclick=\"melon.play.addPlayList('32790516');\" title=\"담기\" type=\"button\"><span class=\"none\">담기</span></button>\n</div></td>\n<td><div class=\"wrap t_center\">\n<button class=\"button_icons download\" onclick=\"melon.buy.goBuyProduct('frm', '32790516', '3C0001', '','0', '19030101');\" title=\"다운로드\" type=\"button\"><span class=\"none\">다운로드</span></button>\n</div></td>\n<td><div class=\"wrap t_center\">\n<button class=\"button_icons video\" onclick=\"melon.link.goMvDetail('19030101', '32790516','song');\" title=\"뮤직비디오\" type=\"button\"><span class=\"none\">뮤직비디오</span></button>\n</div></td>\n</tr>\n"
    }
   ],
   "source": [
    "songs = soup.select('tr')[1:]\n",
    "print(len(songs))\n",
    "print(songs[0])"
   ]
  },
  {
   "cell_type": "code",
   "execution_count": 22,
   "metadata": {
    "tags": []
   },
   "outputs": [
    {
     "output_type": "stream",
     "name": "stdout",
     "text": "1 | 다시 여기 바닷가 | 싹쓰리 (유두래곤, 린다G, 비룡)\n2 | 눈누난나 (NUNU NANA) | 제시 (Jessi)\n3 | Dynamite | 방탄소년단\n4 | 마리아 (Maria) | 화사 (Hwa Sa)\n5 | How You Like That | BLACKPINK\n6 | 그 여름을 틀어줘 | 싹쓰리 (유두래곤, 린다G, 비룡)\n7 | Summer Hate (Feat. 비) | 지코 (ZICO)\n8 | 에잇(Prod.&Feat. SUGA of BTS) | 아이유\n9 | Downtown Baby | 블루 (BLOO)\n10 | Dolphin | 오마이걸\n11 | 아로하 | 조정석\n12 | 여름 안에서 by 싹쓰리 (Feat. 황광희) | 싹쓰리 (유두래곤, 린다G, 비룡)\n13 | 홀로 | 이하이\n14 | 덤디덤디 (DUMDi DUMDi) | (여자)아이들\n15 | 보라빛 밤 (pporappippam) | 선미\n16 | 살짝 설렜어 (Nonstop) | 오마이걸\n17 | When We Disco (Duet with 선미) | 박진영\n18 | 신난다 (Feat. 마마무) | 비룡\n19 | Dance Monkey | Tones And I\n20 | LINDA (Feat. 윤미래) | 린다G\n21 | 취기를 빌려 (취향저격 그녀 X 산들) | 산들\n22 | 어떻게 지내 (Prod. By VAN.C) | 오반\n23 | 사랑하게 될 줄 알았어 | 전미도\n24 | Memories | Maroon 5\n25 | METEOR | 창모 (CHANGMO)\n26 | Blueming | 아이유\n27 | Don't Start Now | Dua Lipa\n28 | 흔들리는 꽃들 속에서 네 샴푸향이 느껴진거야 | 장범준\n29 | 작은 것들을 위한 시 (Boy With Luv) (Feat. Halsey) | 방탄소년단\n30 | Not Shy | ITZY (있지)\n31 | Into the I-LAND | 아이유\n32 | 아무노래 | 지코 (ZICO)\n33 | 사랑은 지날수록 더욱 선명하게 남아 | 전상근\n34 | 처음처럼 | 엠씨더맥스 (M.C the MAX)\n35 | ON | 방탄소년단\n36 | 어떻게 이별까지 사랑하겠어, 널 사랑하는 거지 | AKMU (악동뮤지션)\n37 | 오래된 노래 | 스탠딩 에그\n38 | 2002 | Anne-Marie\n39 | 시작 | 가호 (Gaho)\n40 | 늦은 밤 너의 집 앞 골목길에서 | 노을\n41 | PLAY (Feat. 창모) | 청하\n42 | MORE & MORE | TWICE (트와이스)\n43 | 오늘도 빛나는 너에게 (To You My Light) (Feat.이라온) | 마크툽 (MAKTUB)\n44 | 좋은 사람 있으면 소개시켜줘 | 조이 (JOY)\n45 | 나비와 고양이 (feat.백현 (BAEKHYUN)) | 볼빨간사춘기\n46 | 봄날 | 방탄소년단\n47 | 마음을 드려요 | 아이유\n48 | 모든 날, 모든 순간 (Every day, Every Moment) | 폴킴\n49 | Psycho | Red Velvet (레드벨벳)\n50 | 우리 왜 헤어져야 해 | 신예영\n51 | 거짓말이라도 해서 널 보고싶어 | 백지영\n52 | Maniac | Conan Gray\n53 | Monster | 레드벨벳-아이린&슬기\n54 | 이제 나만 믿어요 | 임영웅\n55 | 안녕 | 폴킴\n56 | Paris In The Rain | Lauv\n57 | 그때 그 아인 | 김필\n58 | 덤더럼 (Dumhdurum) | Apink (에이핑크)\n59 | 화려하지 않은 고백 | 규현 (KYUHYUN)\n60 | 취했나봐 | 황인욱\n61 | 어떻게 지내 (답가) | 런치\n62 | 00:00 (Zero O’Clock) | 방탄소년단\n63 | Black Swan | 방탄소년단\n64 | 너에게 난, 나에게 넌 | 미도와 파라솔\n65 | 첫 줄 | 신용재\n66 | Love poem | 아이유\n67 | 친구 | 방탄소년단\n68 | 돌덩이 | 하현우 (국카스텐)\n69 | 반만 | 진민호\n70 | 깡 Official Remix | 식케이 (Sik-K)\n71 | FIESTA | IZ*ONE (아이즈원)\n72 | 환상동화 (Secret Story of the Swan) | IZ*ONE (아이즈원)\n73 | Stuck with U | Ariana Grande\n74 | 아틀란티스 소녀 (Atlantis Princess) | 볼빨간사춘기\n75 | Painkiller | Ruel\n76 | 나가 | 먼데이 키즈 (Monday Kiz)\n77 | 너를 사랑하고 있어 | 백현 (BAEKHYUN)\n78 | HIP | 마마무 (Mamamoo)\n79 | To Die For | Sam Smith\n80 | WANNABE | ITZY (있지)\n81 | What You Waiting For | 전소미\n82 | 12:45 (Stripped) | Etham\n83 | bad guy | Billie Eilish\n84 | 내 눈물 모아 | 휘인 (Whee In)\n85 | Moon | 방탄소년단\n86 | Filter | 방탄소년단\n87 | 그대 고운 내사랑 | 어반자카파\n88 | Candy | 백현 (BAEKHYUN)\n89 | 비 | 폴킴\n90 | Left & Right | 세븐틴\n91 | 아직 너의 시간에 살아 | 이수현\n92 | 찐이야 | 영탁\n93 | 어느 60대 노부부이야기 | 임영웅\n94 | Milky Way | Red Velvet (레드벨벳)\n95 | 너를 만나 | 폴킴\n96 | 두리쥬와 (Feat. S.B.N) | 유두래곤\n97 | 시차 | 방탄소년단\n98 | 시든 꽃에 물을 주듯 | HYNN (박혜원)\n99 | 사랑이란 멜로는 없어 | 전상근\n100 | 조금 취했어 (Prod. 2soo) | 임재현\n"
    }
   ],
   "source": [
    "for index, song in enumerate(songs):\n",
    "    title = song.select ('div.ellipsis.rank01 > span > a')[0].text\n",
    "    singer = song.select ('div.ellipsis.rank02 > span > a')[0].text\n",
    "    print(index +1, title, singer, sep=' | ')"
   ]
  }
 ]
}